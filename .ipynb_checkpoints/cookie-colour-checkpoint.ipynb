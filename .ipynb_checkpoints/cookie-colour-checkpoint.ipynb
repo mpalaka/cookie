{
 "cells": [
  {
   "cell_type": "code",
   "execution_count": 124,
   "metadata": {},
   "outputs": [],
   "source": [
    "import PIL\n",
    "import cv2 as cv\n",
    "import numpy as np\n",
    "import matplotlib.pyplot as plt\n",
    "import math\n",
    "import pandas as pd "
   ]
  },
  {
   "cell_type": "code",
   "execution_count": 125,
   "metadata": {},
   "outputs": [],
   "source": [
    "img_name = 'cookies/cookie1.jpg' #cookie image"
   ]
  },
  {
   "cell_type": "code",
   "execution_count": 126,
   "metadata": {},
   "outputs": [],
   "source": [
    "def cookie_color(filename):\n",
    "    \n",
    "    img1 = cv.imread(filename, 1)\n",
    "    \n",
    "    #scale the image\n",
    "    scaled_cookie = cv.resize(img1, (255,255))\n",
    "    blur = cv.blur(scaled_cookie, (10,10))    #use bilteral smoothing to preserve the edges\n",
    "    \n",
    "    #grabcut for extracting the cookie foreground\n",
    "    mask = np.zeros(scaled_cookie.shape[:2], np.uint8)\n",
    "\n",
    "    bgmodel = np.zeros((1,65), np.float64)\n",
    "    fgmodel = np.zeros((1,65), np.float64)\n",
    "\n",
    "    #only the edges(20 px) will def be the background \n",
    "    rectangle = (20, 20, 234, 234) \n",
    "\n",
    "    cv.grabCut(scaled_cookie, mask, rectangle, bgmodel, fgmodel, 10, cv.GC_INIT_WITH_RECT)\n",
    "\n",
    "    mask2 = np.where((mask == 2)|(mask == 0), 0, 1).astype('uint8') \n",
    "\n",
    "    image_fg = blur * mask2[:, :, np.newaxis]  #put the mask over the blurred image, not the original scaled one\n",
    "    \n",
    "    #make a list of the foreground pixel values\n",
    "    only_cookie = []\n",
    "\n",
    "    for row in range(20, image_fg.shape[0]-20):\n",
    "        for col in range(20, image_fg.shape[1]-20):\n",
    "\n",
    "            if(sum(image_fg[row,col]) != 0):\n",
    "                #print(image_fg[row,col])\n",
    "                only_cookie.append(list(image_fg[row,col,::-1]))#reverse the array because it is in bgr; we want rgb\n",
    "                \n",
    "    \n",
    "    #finding the top 3 colour codes manually\n",
    "    hex_list = [rgb_to_hex(pixel) for pixel in only_cookie]\n",
    "    hex_counts = pd.Series(hex_list).value_counts() # gives counts for each hex value\n",
    "\n",
    "    top_3 = list(hex_counts.index[:3])\n",
    "                \n",
    "    return top_3"
   ]
  },
  {
   "cell_type": "code",
   "execution_count": 127,
   "metadata": {},
   "outputs": [],
   "source": [
    "#get the average cookie color\n",
    "def average_cookie_color(only_cookie):\n",
    "    #averaging the reds, blues and greens to get the overall average colour\n",
    "    b_val = 0\n",
    "    g_val = 0\n",
    "    r_val = 0\n",
    "\n",
    "    for r,g,b in only_cookie:\n",
    "        b_val += b\n",
    "        g_val += g\n",
    "        r_val += r\n",
    "\n",
    "    avg_color = [r_val, g_val, b_val] #making it into rgb instead of bgr\n",
    "    avg_color = [math.floor(val/len(only_cookie)) for val in avg_color]\n",
    "\n",
    "    #making an ndarray of 100x100 to show the sample of the average color \n",
    "    cookie_color_samp = np.array([[avg_color] * 100]*100)\n",
    "    plt.imshow(cookie_color_samp)\n",
    "    \n",
    "    return avg_color\n",
    "\n",
    "#convert rgb to hexcode\n",
    "def rgb_to_hex(color):\n",
    "    #finding the hex value of each color\n",
    "    hex_col = [hex(val) for val in color]\n",
    "    #removing the 0x from the beginning\n",
    "    hex_col = ['0' + a[2:] if (len(a[2:])==1) else a[2:] for a in hex_col] #hex values may have only one digit, if so add a 0 b/c hexcodes must be 6 digits \n",
    "\n",
    "    hex_code = ''\n",
    "    return ('#' + hex_code.join(hex_col).upper())\n",
    " \n",
    "#convert hexcode to rgb\n",
    "def hex_to_rgb(hex):\n",
    "    \n",
    "    code = hex[1:] #remove the '#' char\n",
    "    code_split = [code[i]+code[i+1] for i in range(0,len(code)-1,2)]\n",
    "    rgb = [int(val, 16) for val in code_split]\n",
    "    \n",
    "    return rgb    \n",
    "\n",
    "#shows the shade sample of the given rgb vector \n",
    "def show_color(rgb):\n",
    "    \n",
    "    cookie_color_samp = np.array([[rgb] * 1]*1)\n",
    "    plt.imshow(cookie_color_samp)"
   ]
  },
  {
   "cell_type": "code",
   "execution_count": 128,
   "metadata": {},
   "outputs": [
    {
     "name": "stdout",
     "output_type": "stream",
     "text": [
      "['#B99A75', '#B99B77', '#B48E66']\n",
      "Here is the best match!\n"
     ]
    },
    {
     "data": {
      "image/png": "[encoded data removed]",
      "text/plain": [
       "<Figure size 432x288 with 1 Axes>"
      ]
     },
     "metadata": {
      "needs_background": "light"
     },
     "output_type": "display_data"
    }
   ],
   "source": [
    "colors = cookie_color(img_name)\n",
    "print(colors)\n",
    "\n",
    "print(\"Here is the best match!\")\n",
    "show_color(hex_to_rgb(colors[0]))"
   ]
  },
  {
   "cell_type": "code",
   "execution_count": null,
   "metadata": {},
   "outputs": [],
   "source": []
  }
 ],
 "metadata": {
  "kernelspec": {
   "display_name": "Python 3",
   "language": "python",
   "name": "python3"
  },
  "language_info": {
   "codemirror_mode": {
    "name": "ipython",
    "version": 3
   },
   "file_extension": ".py",
   "mimetype": "text/x-python",
   "name": "python",
   "nbconvert_exporter": "python",
   "pygments_lexer": "ipython3",
   "version": "3.6.5"
  }
 },
 "nbformat": 4,
 "nbformat_minor": 4
}
